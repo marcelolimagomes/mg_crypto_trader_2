{
 "cells": [
  {
   "cell_type": "code",
   "execution_count": 1,
   "metadata": {},
   "outputs": [
    {
     "name": "stdout",
     "output_type": "stream",
     "text": [
      "['/home/marcelo/des/crypto_analysis_deep_learning', '/home/marcelo/des/crypto_analysis_deep_learning/src/nb', '/home/marcelo/miniconda3/envs/pycaret/lib/python311.zip', '/home/marcelo/miniconda3/envs/pycaret/lib/python3.11', '/home/marcelo/miniconda3/envs/pycaret/lib/python3.11/lib-dynload', '', '/home/marcelo/miniconda3/envs/pycaret/lib/python3.11/site-packages']\n"
     ]
    }
   ],
   "source": [
    "import sys\n",
    "\n",
    "sys.path.insert(0, sys.path[0].removesuffix(\"/src/nb\"))\n",
    "print(sys.path)\n",
    "\n",
    "from ta.trend import *\n",
    "from ta.momentum import *\n",
    "from sklearn.model_selection import train_test_split\n",
    "from pycaret.classification import ClassificationExperiment\n",
    "from imblearn.under_sampling import AllKNN\n",
    "\n",
    "import src.utils as utils\n",
    "import src.myenv as myenv\n",
    "import src.calc_utils as calc_utils\n",
    "\n",
    "import pandas as pd\n",
    "import numpy as np\n",
    "import warnings\n",
    "\n",
    "clustering = False\n",
    "use_gpu = False\n",
    "shuffle = True\n",
    "categorical_features = None\n",
    "train_size = 0.9\n",
    "\n",
    "warnings.simplefilter(\"ignore\")"
   ]
  },
  {
   "cell_type": "code",
   "execution_count": 2,
   "metadata": {},
   "outputs": [],
   "source": [
    "def setup_model(data, train_size = train_size, shuffle = shuffle, categorical_features = categorical_features, use_gpu = use_gpu):\n",
    "    print(f'Setup Model: train_size: {train_size}, shuffle: {shuffle}, categorical_features: {categorical_features}, use_gpu: {use_gpu}')\n",
    "    exp_class = ClassificationExperiment()\n",
    "    exp_class = exp_class.setup(data, \n",
    "\t\t\t\t\t\t\ttrain_size=train_size,\n",
    "\t\t\t\t\t\t\tdata_split_shuffle=shuffle,\n",
    "\t\t\t\t\t\t\tdata_split_stratify=shuffle,\n",
    "\t\t\t\t\t\t\ttarget='status',\n",
    "\t\t\t\t\t\t\tcategorical_features=categorical_features,\n",
    "\t\t\t\t\t\t\tfix_imbalance=True, # repeatededitednearestneighbours instancehardnessthreshold allknn   \n",
    "\t\t\t\t\t\t\tfix_imbalance_method=AllKNN(allow_minority=False, kind_sel='all', n_jobs=-1, n_neighbors=3, sampling_strategy='auto'),\n",
    "\t\t\t\t\t\t\t#fix_imbalance_method=RepeatedEditedNearestNeighbours(kind_sel='all', max_iter=100, n_jobs=20, n_neighbors=3, sampling_strategy='auto'), \n",
    "\t\t\t\t\t\t\t#fix_imbalance_method=InstanceHardnessThreshold(cv=5, estimator=None, n_jobs=20, random_state=123, sampling_strategy='auto'),                        \n",
    "\t\t\t\t\t\t\t#remove_outliers=True,\n",
    "\t\t\t\t\t\t\t#normalize=True, \n",
    "\t\t\t\t\t\t\t#normalize_method='zscore', \n",
    "\t\t\t\t\t\t\t#transformation=True,\n",
    "\t\t\t\t\t\t\t#transformation_method='yeo-johnson',\n",
    "\t\t\t\t\t\t\t#polynomial_features=True,\n",
    "\t\t\t\t\t\t\tsession_id=123, \n",
    "\t\t\t\t\t\t\tfold=3,\t\n",
    "\t\t\t\t\t\t\tuse_gpu=use_gpu)\n",
    "\n",
    "    return exp_class"
   ]
  },
  {
   "cell_type": "code",
   "execution_count": 3,
   "metadata": {},
   "outputs": [
    {
     "name": "stdout",
     "output_type": "stream",
     "text": [
      "<class 'pandas.core.frame.DataFrame'>\n",
      "Index: 58550 entries, 1502942400000 to 1714179600000\n",
      "Data columns (total 4 columns):\n",
      " #   Column  Non-Null Count  Dtype  \n",
      "---  ------  --------------  -----  \n",
      " 0   open    58550 non-null  float32\n",
      " 1   high    58550 non-null  float32\n",
      " 2   low     58550 non-null  float32\n",
      " 3   close   58550 non-null  float32\n",
      "dtypes: float32(4)\n",
      "memory usage: 1.3 MB\n"
     ]
    }
   ],
   "source": [
    "df = utils.get_database(\n",
    "    symbol=\"BTCUSDT\", interval=\"1h\", columns=myenv.all_klines_cols, parse_dates=False\n",
    ")\n",
    "df.drop(\n",
    "    columns=[\n",
    "        \"open_time\",\n",
    "        \"close_time\",\n",
    "        \"volume\",\n",
    "        \"quote_asset_volume\",\n",
    "        \"number_of_trades\",\n",
    "        \"taker_buy_base_asset_volume\",\n",
    "        \"taker_buy_quote_asset_volume\",\n",
    "        \"ignore\",\n",
    "    ],\n",
    "    inplace=True,\n",
    ")\n",
    "df.info()"
   ]
  },
  {
   "cell_type": "code",
   "execution_count": 4,
   "metadata": {},
   "outputs": [
    {
     "name": "stdout",
     "output_type": "stream",
     "text": [
      "<class 'pandas.core.frame.DataFrame'>\n",
      "Index: 58251 entries, 1504018800000 to 1714179600000\n",
      "Data columns (total 20 columns):\n",
      " #   Column          Non-Null Count  Dtype  \n",
      "---  ------          --------------  -----  \n",
      " 0   open            58251 non-null  float32\n",
      " 1   high            58251 non-null  float32\n",
      " 2   low             58251 non-null  float32\n",
      " 3   close           58251 non-null  float32\n",
      " 4   ema_150p        58251 non-null  float32\n",
      " 5   ema_150p_diff   58251 non-null  float32\n",
      " 6   ema_200p        58251 non-null  float32\n",
      " 7   ema_200p_diff   58251 non-null  float32\n",
      " 8   ema_250p        58251 non-null  float32\n",
      " 9   ema_250p_diff   58251 non-null  float32\n",
      " 10  ema_300p        58251 non-null  float32\n",
      " 11  ema_300p_diff   58251 non-null  float32\n",
      " 12  rsi             58251 non-null  float32\n",
      " 13  amplitude       58251 non-null  float32\n",
      " 14  amplitude_diff  58251 non-null  float32\n",
      " 15  macd            58251 non-null  float64\n",
      " 16  macd_diff       58251 non-null  float64\n",
      " 17  macd_signal     58251 non-null  float64\n",
      " 18  aoi             58251 non-null  float64\n",
      " 19  tsi             58251 non-null  float64\n",
      "dtypes: float32(15), float64(5)\n",
      "memory usage: 6.0 MB\n"
     ]
    }
   ],
   "source": [
    "df = calc_utils.calc_ema_periods(\n",
    "    df, [150, 200, 250, 300], close_price=\"close\", diff_price=True\n",
    ")\n",
    "df = calc_utils.calc_RSI(\n",
    "    df, close_price=\"close\", window=14, fillna=False, last_one=False\n",
    ")\n",
    "df = calc_utils.calc_amplitude(df, column=\"close\")\n",
    "\n",
    "macd = MACD(df[\"close\"], 12, 26, 9)\n",
    "df[\"macd\"] = macd.macd()\n",
    "df[\"macd_diff\"] = macd.macd_diff()\n",
    "df[\"macd_signal\"] = macd.macd_signal()\n",
    "\n",
    "aoi = AwesomeOscillatorIndicator(df[\"high\"], df[\"low\"])\n",
    "df[\"aoi\"] = aoi.awesome_oscillator()\n",
    "\n",
    "df[\"tsi\"] = TSIIndicator(df[\"close\"]).tsi()\n",
    "\n",
    "df.dropna(inplace=True)\n",
    "\n",
    "df.info()"
   ]
  },
  {
   "cell_type": "code",
   "execution_count": 5,
   "metadata": {},
   "outputs": [],
   "source": [
    "from pycaret.clustering import ClusteringExperiment\n",
    "\n",
    "if clustering:\n",
    "    categorical_features = [\"Cluster\"]\n",
    "    exp = ClusteringExperiment()\n",
    "    exp = exp.setup(\n",
    "        df, normalize=True, normalize_method=\"minmax\", session_id=123, use_gpu=use_gpu\n",
    "    )\n",
    "    model = exp.create_model(\"kmeans\", num_clusters=4)\n",
    "    df_cluster = exp.assign_model(model)\n",
    "    df_cluster.info()\n",
    "else:\n",
    "    df_cluster = df"
   ]
  },
  {
   "cell_type": "code",
   "execution_count": 6,
   "metadata": {},
   "outputs": [],
   "source": [
    "# plot pca cluster plot\n",
    "if clustering:\n",
    "    exp.plot_model(model, plot=\"cluster\")"
   ]
  },
  {
   "cell_type": "code",
   "execution_count": 7,
   "metadata": {},
   "outputs": [],
   "source": [
    "# plot elbow\n",
    "if clustering:\n",
    "    exp.plot_model(model, plot=\"elbow\")"
   ]
  },
  {
   "cell_type": "code",
   "execution_count": 8,
   "metadata": {},
   "outputs": [],
   "source": [
    "# plot silhouette\n",
    "# exp.plot_model(model, plot = 'silhouette')"
   ]
  },
  {
   "cell_type": "code",
   "execution_count": 9,
   "metadata": {},
   "outputs": [
    {
     "name": "stdout",
     "output_type": "stream",
     "text": [
      "<class 'pandas.core.frame.DataFrame'>\n",
      "Index: 58227 entries, 1504105200000 to 1714179600000\n",
      "Data columns (total 22 columns):\n",
      " #   Column          Non-Null Count  Dtype  \n",
      "---  ------          --------------  -----  \n",
      " 0   open            58227 non-null  float32\n",
      " 1   high            58227 non-null  float32\n",
      " 2   low             58227 non-null  float32\n",
      " 3   close           58227 non-null  float32\n",
      " 4   ema_150p        58227 non-null  float32\n",
      " 5   ema_150p_diff   58227 non-null  float32\n",
      " 6   ema_200p        58227 non-null  float32\n",
      " 7   ema_200p_diff   58227 non-null  float32\n",
      " 8   ema_250p        58227 non-null  float32\n",
      " 9   ema_250p_diff   58227 non-null  float32\n",
      " 10  ema_300p        58227 non-null  float32\n",
      " 11  ema_300p_diff   58227 non-null  float32\n",
      " 12  rsi             58227 non-null  float32\n",
      " 13  amplitude       58227 non-null  float32\n",
      " 14  amplitude_diff  58227 non-null  float32\n",
      " 15  macd            58227 non-null  float64\n",
      " 16  macd_diff       58227 non-null  float64\n",
      " 17  macd_signal     58227 non-null  float64\n",
      " 18  aoi             58227 non-null  float64\n",
      " 19  tsi             58227 non-null  float64\n",
      " 20  variation       58227 non-null  float32\n",
      " 21  status          58227 non-null  object \n",
      "dtypes: float32(16), float64(5), object(1)\n",
      "memory usage: 6.7+ MB\n"
     ]
    }
   ],
   "source": [
    "df_cluster[\"variation\"] = (\n",
    "    df_cluster[\"close\"] - df_cluster[\"close\"].shift(24)\n",
    ") / df_cluster[\"close\"]\n",
    "df_cluster[\"status\"] = np.where(\n",
    "    df_cluster[\"variation\"] > 0.015, \"SOBE\", \"ESTAVEL\"\n",
    ")  # 1 == SOBE, 0 == ESTAVEL\n",
    "df_cluster.dropna(inplace=True)\n",
    "df_cluster.info()"
   ]
  },
  {
   "cell_type": "code",
   "execution_count": 10,
   "metadata": {},
   "outputs": [
    {
     "data": {
      "text/plain": [
       "status\n",
       "ESTAVEL    42080\n",
       "SOBE       16147\n",
       "Name: count, dtype: int64"
      ]
     },
     "execution_count": 10,
     "metadata": {},
     "output_type": "execute_result"
    }
   ],
   "source": [
    "df_cluster.drop(columns=[\"variation\"], inplace=True)\n",
    "df_cluster[\"status\"].value_counts()"
   ]
  },
  {
   "cell_type": "code",
   "execution_count": 11,
   "metadata": {},
   "outputs": [],
   "source": [
    "train_data, validation_data = train_test_split(\n",
    "    df_cluster, train_size=train_size, random_state=123, shuffle=shuffle\n",
    ")"
   ]
  },
  {
   "cell_type": "code",
   "execution_count": 12,
   "metadata": {},
   "outputs": [
    {
     "name": "stdout",
     "output_type": "stream",
     "text": [
      "Setup Model: train_size: 0.9, shuffle: True, categorical_features: None, use_gpu: False\n"
     ]
    },
    {
     "data": {
      "text/html": [
       "<style type=\"text/css\">\n",
       "#T_c7cfb_row9_col1, #T_c7cfb_row13_col1 {\n",
       "  background-color: lightgreen;\n",
       "}\n",
       "</style>\n",
       "<table id=\"T_c7cfb\">\n",
       "  <thead>\n",
       "    <tr>\n",
       "      <th class=\"blank level0\" >&nbsp;</th>\n",
       "      <th id=\"T_c7cfb_level0_col0\" class=\"col_heading level0 col0\" >Description</th>\n",
       "      <th id=\"T_c7cfb_level0_col1\" class=\"col_heading level0 col1\" >Value</th>\n",
       "    </tr>\n",
       "  </thead>\n",
       "  <tbody>\n",
       "    <tr>\n",
       "      <th id=\"T_c7cfb_level0_row0\" class=\"row_heading level0 row0\" >0</th>\n",
       "      <td id=\"T_c7cfb_row0_col0\" class=\"data row0 col0\" >Session id</td>\n",
       "      <td id=\"T_c7cfb_row0_col1\" class=\"data row0 col1\" >123</td>\n",
       "    </tr>\n",
       "    <tr>\n",
       "      <th id=\"T_c7cfb_level0_row1\" class=\"row_heading level0 row1\" >1</th>\n",
       "      <td id=\"T_c7cfb_row1_col0\" class=\"data row1 col0\" >Target</td>\n",
       "      <td id=\"T_c7cfb_row1_col1\" class=\"data row1 col1\" >status</td>\n",
       "    </tr>\n",
       "    <tr>\n",
       "      <th id=\"T_c7cfb_level0_row2\" class=\"row_heading level0 row2\" >2</th>\n",
       "      <td id=\"T_c7cfb_row2_col0\" class=\"data row2 col0\" >Target type</td>\n",
       "      <td id=\"T_c7cfb_row2_col1\" class=\"data row2 col1\" >Binary</td>\n",
       "    </tr>\n",
       "    <tr>\n",
       "      <th id=\"T_c7cfb_level0_row3\" class=\"row_heading level0 row3\" >3</th>\n",
       "      <td id=\"T_c7cfb_row3_col0\" class=\"data row3 col0\" >Target mapping</td>\n",
       "      <td id=\"T_c7cfb_row3_col1\" class=\"data row3 col1\" >ESTAVEL: 0, SOBE: 1</td>\n",
       "    </tr>\n",
       "    <tr>\n",
       "      <th id=\"T_c7cfb_level0_row4\" class=\"row_heading level0 row4\" >4</th>\n",
       "      <td id=\"T_c7cfb_row4_col0\" class=\"data row4 col0\" >Original data shape</td>\n",
       "      <td id=\"T_c7cfb_row4_col1\" class=\"data row4 col1\" >(52404, 21)</td>\n",
       "    </tr>\n",
       "    <tr>\n",
       "      <th id=\"T_c7cfb_level0_row5\" class=\"row_heading level0 row5\" >5</th>\n",
       "      <td id=\"T_c7cfb_row5_col0\" class=\"data row5 col0\" >Transformed data shape</td>\n",
       "      <td id=\"T_c7cfb_row5_col1\" class=\"data row5 col1\" >(47400, 21)</td>\n",
       "    </tr>\n",
       "    <tr>\n",
       "      <th id=\"T_c7cfb_level0_row6\" class=\"row_heading level0 row6\" >6</th>\n",
       "      <td id=\"T_c7cfb_row6_col0\" class=\"data row6 col0\" >Transformed train set shape</td>\n",
       "      <td id=\"T_c7cfb_row6_col1\" class=\"data row6 col1\" >(42159, 21)</td>\n",
       "    </tr>\n",
       "    <tr>\n",
       "      <th id=\"T_c7cfb_level0_row7\" class=\"row_heading level0 row7\" >7</th>\n",
       "      <td id=\"T_c7cfb_row7_col0\" class=\"data row7 col0\" >Transformed test set shape</td>\n",
       "      <td id=\"T_c7cfb_row7_col1\" class=\"data row7 col1\" >(5241, 21)</td>\n",
       "    </tr>\n",
       "    <tr>\n",
       "      <th id=\"T_c7cfb_level0_row8\" class=\"row_heading level0 row8\" >8</th>\n",
       "      <td id=\"T_c7cfb_row8_col0\" class=\"data row8 col0\" >Numeric features</td>\n",
       "      <td id=\"T_c7cfb_row8_col1\" class=\"data row8 col1\" >20</td>\n",
       "    </tr>\n",
       "    <tr>\n",
       "      <th id=\"T_c7cfb_level0_row9\" class=\"row_heading level0 row9\" >9</th>\n",
       "      <td id=\"T_c7cfb_row9_col0\" class=\"data row9 col0\" >Preprocess</td>\n",
       "      <td id=\"T_c7cfb_row9_col1\" class=\"data row9 col1\" >True</td>\n",
       "    </tr>\n",
       "    <tr>\n",
       "      <th id=\"T_c7cfb_level0_row10\" class=\"row_heading level0 row10\" >10</th>\n",
       "      <td id=\"T_c7cfb_row10_col0\" class=\"data row10 col0\" >Imputation type</td>\n",
       "      <td id=\"T_c7cfb_row10_col1\" class=\"data row10 col1\" >simple</td>\n",
       "    </tr>\n",
       "    <tr>\n",
       "      <th id=\"T_c7cfb_level0_row11\" class=\"row_heading level0 row11\" >11</th>\n",
       "      <td id=\"T_c7cfb_row11_col0\" class=\"data row11 col0\" >Numeric imputation</td>\n",
       "      <td id=\"T_c7cfb_row11_col1\" class=\"data row11 col1\" >mean</td>\n",
       "    </tr>\n",
       "    <tr>\n",
       "      <th id=\"T_c7cfb_level0_row12\" class=\"row_heading level0 row12\" >12</th>\n",
       "      <td id=\"T_c7cfb_row12_col0\" class=\"data row12 col0\" >Categorical imputation</td>\n",
       "      <td id=\"T_c7cfb_row12_col1\" class=\"data row12 col1\" >mode</td>\n",
       "    </tr>\n",
       "    <tr>\n",
       "      <th id=\"T_c7cfb_level0_row13\" class=\"row_heading level0 row13\" >13</th>\n",
       "      <td id=\"T_c7cfb_row13_col0\" class=\"data row13 col0\" >Fix imbalance</td>\n",
       "      <td id=\"T_c7cfb_row13_col1\" class=\"data row13 col1\" >True</td>\n",
       "    </tr>\n",
       "    <tr>\n",
       "      <th id=\"T_c7cfb_level0_row14\" class=\"row_heading level0 row14\" >14</th>\n",
       "      <td id=\"T_c7cfb_row14_col0\" class=\"data row14 col0\" >Fix imbalance method</td>\n",
       "      <td id=\"T_c7cfb_row14_col1\" class=\"data row14 col1\" >AllKNN(allow_minority=False, kind_sel='all', n_jobs=-1, n_neighbors=3,\n",
       "       sampling_strategy='auto')</td>\n",
       "    </tr>\n",
       "    <tr>\n",
       "      <th id=\"T_c7cfb_level0_row15\" class=\"row_heading level0 row15\" >15</th>\n",
       "      <td id=\"T_c7cfb_row15_col0\" class=\"data row15 col0\" >Fold Generator</td>\n",
       "      <td id=\"T_c7cfb_row15_col1\" class=\"data row15 col1\" >StratifiedKFold</td>\n",
       "    </tr>\n",
       "    <tr>\n",
       "      <th id=\"T_c7cfb_level0_row16\" class=\"row_heading level0 row16\" >16</th>\n",
       "      <td id=\"T_c7cfb_row16_col0\" class=\"data row16 col0\" >Fold Number</td>\n",
       "      <td id=\"T_c7cfb_row16_col1\" class=\"data row16 col1\" >3</td>\n",
       "    </tr>\n",
       "    <tr>\n",
       "      <th id=\"T_c7cfb_level0_row17\" class=\"row_heading level0 row17\" >17</th>\n",
       "      <td id=\"T_c7cfb_row17_col0\" class=\"data row17 col0\" >CPU Jobs</td>\n",
       "      <td id=\"T_c7cfb_row17_col1\" class=\"data row17 col1\" >-1</td>\n",
       "    </tr>\n",
       "    <tr>\n",
       "      <th id=\"T_c7cfb_level0_row18\" class=\"row_heading level0 row18\" >18</th>\n",
       "      <td id=\"T_c7cfb_row18_col0\" class=\"data row18 col0\" >Use GPU</td>\n",
       "      <td id=\"T_c7cfb_row18_col1\" class=\"data row18 col1\" >False</td>\n",
       "    </tr>\n",
       "    <tr>\n",
       "      <th id=\"T_c7cfb_level0_row19\" class=\"row_heading level0 row19\" >19</th>\n",
       "      <td id=\"T_c7cfb_row19_col0\" class=\"data row19 col0\" >Log Experiment</td>\n",
       "      <td id=\"T_c7cfb_row19_col1\" class=\"data row19 col1\" >False</td>\n",
       "    </tr>\n",
       "    <tr>\n",
       "      <th id=\"T_c7cfb_level0_row20\" class=\"row_heading level0 row20\" >20</th>\n",
       "      <td id=\"T_c7cfb_row20_col0\" class=\"data row20 col0\" >Experiment Name</td>\n",
       "      <td id=\"T_c7cfb_row20_col1\" class=\"data row20 col1\" >clf-default-name</td>\n",
       "    </tr>\n",
       "    <tr>\n",
       "      <th id=\"T_c7cfb_level0_row21\" class=\"row_heading level0 row21\" >21</th>\n",
       "      <td id=\"T_c7cfb_row21_col0\" class=\"data row21 col0\" >USI</td>\n",
       "      <td id=\"T_c7cfb_row21_col1\" class=\"data row21 col1\" >baae</td>\n",
       "    </tr>\n",
       "  </tbody>\n",
       "</table>\n"
      ],
      "text/plain": [
       "<pandas.io.formats.style.Styler at 0x7c3e88e50890>"
      ]
     },
     "metadata": {},
     "output_type": "display_data"
    }
   ],
   "source": [
    "exp_class = setup_model(train_data)"
   ]
  },
  {
   "cell_type": "code",
   "execution_count": 13,
   "metadata": {},
   "outputs": [
    {
     "data": {
      "text/html": [],
      "text/plain": [
       "<IPython.core.display.HTML object>"
      ]
     },
     "metadata": {},
     "output_type": "display_data"
    },
    {
     "data": {
      "text/html": [
       "<style type=\"text/css\">\n",
       "#T_7eb5c_row3_col0, #T_7eb5c_row3_col1, #T_7eb5c_row3_col2, #T_7eb5c_row3_col3, #T_7eb5c_row3_col4, #T_7eb5c_row3_col5, #T_7eb5c_row3_col6 {\n",
       "  background: yellow;\n",
       "}\n",
       "</style>\n",
       "<table id=\"T_7eb5c\">\n",
       "  <thead>\n",
       "    <tr>\n",
       "      <th class=\"blank level0\" >&nbsp;</th>\n",
       "      <th id=\"T_7eb5c_level0_col0\" class=\"col_heading level0 col0\" >Accuracy</th>\n",
       "      <th id=\"T_7eb5c_level0_col1\" class=\"col_heading level0 col1\" >AUC</th>\n",
       "      <th id=\"T_7eb5c_level0_col2\" class=\"col_heading level0 col2\" >Recall</th>\n",
       "      <th id=\"T_7eb5c_level0_col3\" class=\"col_heading level0 col3\" >Prec.</th>\n",
       "      <th id=\"T_7eb5c_level0_col4\" class=\"col_heading level0 col4\" >F1</th>\n",
       "      <th id=\"T_7eb5c_level0_col5\" class=\"col_heading level0 col5\" >Kappa</th>\n",
       "      <th id=\"T_7eb5c_level0_col6\" class=\"col_heading level0 col6\" >MCC</th>\n",
       "    </tr>\n",
       "    <tr>\n",
       "      <th class=\"index_name level0\" >Fold</th>\n",
       "      <th class=\"blank col0\" >&nbsp;</th>\n",
       "      <th class=\"blank col1\" >&nbsp;</th>\n",
       "      <th class=\"blank col2\" >&nbsp;</th>\n",
       "      <th class=\"blank col3\" >&nbsp;</th>\n",
       "      <th class=\"blank col4\" >&nbsp;</th>\n",
       "      <th class=\"blank col5\" >&nbsp;</th>\n",
       "      <th class=\"blank col6\" >&nbsp;</th>\n",
       "    </tr>\n",
       "  </thead>\n",
       "  <tbody>\n",
       "    <tr>\n",
       "      <th id=\"T_7eb5c_level0_row0\" class=\"row_heading level0 row0\" >0</th>\n",
       "      <td id=\"T_7eb5c_row0_col0\" class=\"data row0 col0\" >0.9115</td>\n",
       "      <td id=\"T_7eb5c_row0_col1\" class=\"data row0 col1\" >0.0000</td>\n",
       "      <td id=\"T_7eb5c_row0_col2\" class=\"data row0 col2\" >0.9115</td>\n",
       "      <td id=\"T_7eb5c_row0_col3\" class=\"data row0 col3\" >0.9203</td>\n",
       "      <td id=\"T_7eb5c_row0_col4\" class=\"data row0 col4\" >0.9135</td>\n",
       "      <td id=\"T_7eb5c_row0_col5\" class=\"data row0 col5\" >0.7900</td>\n",
       "      <td id=\"T_7eb5c_row0_col6\" class=\"data row0 col6\" >0.7953</td>\n",
       "    </tr>\n",
       "    <tr>\n",
       "      <th id=\"T_7eb5c_level0_row1\" class=\"row_heading level0 row1\" >1</th>\n",
       "      <td id=\"T_7eb5c_row1_col0\" class=\"data row1 col0\" >0.9099</td>\n",
       "      <td id=\"T_7eb5c_row1_col1\" class=\"data row1 col1\" >0.0000</td>\n",
       "      <td id=\"T_7eb5c_row1_col2\" class=\"data row1 col2\" >0.9099</td>\n",
       "      <td id=\"T_7eb5c_row1_col3\" class=\"data row1 col3\" >0.9187</td>\n",
       "      <td id=\"T_7eb5c_row1_col4\" class=\"data row1 col4\" >0.9120</td>\n",
       "      <td id=\"T_7eb5c_row1_col5\" class=\"data row1 col5\" >0.7863</td>\n",
       "      <td id=\"T_7eb5c_row1_col6\" class=\"data row1 col6\" >0.7915</td>\n",
       "    </tr>\n",
       "    <tr>\n",
       "      <th id=\"T_7eb5c_level0_row2\" class=\"row_heading level0 row2\" >2</th>\n",
       "      <td id=\"T_7eb5c_row2_col0\" class=\"data row2 col0\" >0.9104</td>\n",
       "      <td id=\"T_7eb5c_row2_col1\" class=\"data row2 col1\" >0.0000</td>\n",
       "      <td id=\"T_7eb5c_row2_col2\" class=\"data row2 col2\" >0.9104</td>\n",
       "      <td id=\"T_7eb5c_row2_col3\" class=\"data row2 col3\" >0.9198</td>\n",
       "      <td id=\"T_7eb5c_row2_col4\" class=\"data row2 col4\" >0.9125</td>\n",
       "      <td id=\"T_7eb5c_row2_col5\" class=\"data row2 col5\" >0.7880</td>\n",
       "      <td id=\"T_7eb5c_row2_col6\" class=\"data row2 col6\" >0.7937</td>\n",
       "    </tr>\n",
       "    <tr>\n",
       "      <th id=\"T_7eb5c_level0_row3\" class=\"row_heading level0 row3\" >Mean</th>\n",
       "      <td id=\"T_7eb5c_row3_col0\" class=\"data row3 col0\" >0.9106</td>\n",
       "      <td id=\"T_7eb5c_row3_col1\" class=\"data row3 col1\" >0.0000</td>\n",
       "      <td id=\"T_7eb5c_row3_col2\" class=\"data row3 col2\" >0.9106</td>\n",
       "      <td id=\"T_7eb5c_row3_col3\" class=\"data row3 col3\" >0.9196</td>\n",
       "      <td id=\"T_7eb5c_row3_col4\" class=\"data row3 col4\" >0.9127</td>\n",
       "      <td id=\"T_7eb5c_row3_col5\" class=\"data row3 col5\" >0.7881</td>\n",
       "      <td id=\"T_7eb5c_row3_col6\" class=\"data row3 col6\" >0.7935</td>\n",
       "    </tr>\n",
       "    <tr>\n",
       "      <th id=\"T_7eb5c_level0_row4\" class=\"row_heading level0 row4\" >Std</th>\n",
       "      <td id=\"T_7eb5c_row4_col0\" class=\"data row4 col0\" >0.0006</td>\n",
       "      <td id=\"T_7eb5c_row4_col1\" class=\"data row4 col1\" >0.0000</td>\n",
       "      <td id=\"T_7eb5c_row4_col2\" class=\"data row4 col2\" >0.0006</td>\n",
       "      <td id=\"T_7eb5c_row4_col3\" class=\"data row4 col3\" >0.0007</td>\n",
       "      <td id=\"T_7eb5c_row4_col4\" class=\"data row4 col4\" >0.0006</td>\n",
       "      <td id=\"T_7eb5c_row4_col5\" class=\"data row4 col5\" >0.0015</td>\n",
       "      <td id=\"T_7eb5c_row4_col6\" class=\"data row4 col6\" >0.0016</td>\n",
       "    </tr>\n",
       "  </tbody>\n",
       "</table>\n"
      ],
      "text/plain": [
       "<pandas.io.formats.style.Styler at 0x7c3e83f96e50>"
      ]
     },
     "metadata": {},
     "output_type": "display_data"
    },
    {
     "data": {
      "text/html": [],
      "text/plain": [
       "<IPython.core.display.HTML object>"
      ]
     },
     "metadata": {},
     "output_type": "display_data"
    }
   ],
   "source": [
    "\"\"\"\n",
    "et\tExtra Trees Classifier\t0.9291\t0.0000\t0.9291\t0.9284\t0.9285\t0.8199\t0.8206\t0.3350\n",
    "rf\tRandom Forest Classifier\t0.9265\t0.0000\t0.9265\t0.9257\t0.9259\t0.8136\t0.8141\t1.0330\n",
    "lightgbm\tLight Gradient Boosting Machine\t0.9198\t0.0000\t0.9198\t0.9190\t0.9192\t0.7970\t0.7974\t0.4660\n",
    "gbc\tGradient Boosting Classifier\t0.9137\t0.9661\t0.9137\t0.9128\t0.9131\t0.7816\t0.7820\t21.8550\n",
    "ada\tAda Boost Classifier\t0.9030\t0.9595\t0.9030\t0.9022\t0.9025\t0.7553\t0.7556\t4.2980\n",
    "lr\tLogistic Regression\t0.9012\t0.9526\t0.9012\t0.8996\t0.8993\t0.7447\t0.7471\t0.2800\n",
    "svm\tSVM - Linear Kernel\t0.9001\t0.9506\t0.9001\t0.8988\t0.8979\t0.7406\t0.7439\t0.2090\n",
    "knn\tK Neighbors Classifier\t0.8939\t0.0000\t0.8939\t0.8921\t0.8922\t0.7269\t0.7288\t0.2160\n",
    "dt\tDecision Tree Classifier\t0.8897\t0.0000\t0.8897\t0.8901\t0.8899\t0.7255\t0.7256\t0.9880\n",
    "lda\tLinear Discriminant Analysis\t0.8865\t0.9477\t0.8865\t0.8846\t0.8830\t0.7011\t0.7065\t0.1990\n",
    "ridge\tRidge Classifier\t0.8811\t0.9447\t0.8811\t0.8802\t0.8760\t0.6810\t0.6908\t0.1650\n",
    "qda\tQuadratic Discriminant Analysis\t0.8547\t0.9124\t0.8547\t0.8522\t0.8528\t0.6283\t0.6296\t0.1780\n",
    "nb\tNaive Bayes\t0.8119\t0.0000\t0.8119\t0.8239\t0.8161\t0.5536\t0.5570\t0.1260\n",
    "dummy\tDummy Classifier\t0.7229\t0.0000\t0.7229\t0.5226\t0.6067\t0.0000\t0.0000\t0.1190\n",
    "\"\"\"\n",
    "\n",
    "# best_model = exp_class.compare_models()\n",
    "best_model = exp_class.create_model(\"et\")"
   ]
  },
  {
   "cell_type": "code",
   "execution_count": 14,
   "metadata": {},
   "outputs": [
    {
     "data": {
      "text/html": [],
      "text/plain": [
       "<IPython.core.display.HTML object>"
      ]
     },
     "metadata": {},
     "output_type": "display_data"
    },
    {
     "data": {
      "image/png": "[encoded data removed]",
      "text/plain": [
       "<Figure size 800x550 with 1 Axes>"
      ]
     },
     "metadata": {},
     "output_type": "display_data"
    }
   ],
   "source": [
    "# plot confusion matrix\n",
    "exp_class.plot_model(best_model, plot=\"confusion_matrix\")"
   ]
  },
  {
   "cell_type": "code",
   "execution_count": 15,
   "metadata": {},
   "outputs": [
    {
     "data": {
      "text/html": [],
      "text/plain": [
       "<IPython.core.display.HTML object>"
      ]
     },
     "metadata": {},
     "output_type": "display_data"
    },
    {
     "data": {
      "image/png": "[encoded data removed]",
      "text/plain": [
       "<Figure size 800x550 with 1 Axes>"
      ]
     },
     "metadata": {},
     "output_type": "display_data"
    }
   ],
   "source": [
    "# plot AUC\n",
    "exp_class.plot_model(best_model, plot=\"auc\")"
   ]
  },
  {
   "cell_type": "code",
   "execution_count": 16,
   "metadata": {},
   "outputs": [
    {
     "data": {
      "text/html": [],
      "text/plain": [
       "<IPython.core.display.HTML object>"
      ]
     },
     "metadata": {},
     "output_type": "display_data"
    },
    {
     "data": {
      "image/png": "[encoded data removed]",
      "text/plain": [
       "<Figure size 800x500 with 1 Axes>"
      ]
     },
     "metadata": {},
     "output_type": "display_data"
    }
   ],
   "source": [
    "# plot feature importance\n",
    "exp_class.plot_model(best_model, plot=\"feature\")"
   ]
  },
  {
   "cell_type": "code",
   "execution_count": 17,
   "metadata": {},
   "outputs": [],
   "source": [
    "# interpret summary model\n",
    "# exp_class.interpret_model(best_model, plot = 'summary')"
   ]
  },
  {
   "cell_type": "code",
   "execution_count": 18,
   "metadata": {},
   "outputs": [],
   "source": [
    "# reason plot for test set observation 1\n",
    "# exp_class.interpret_model(best_model, plot = 'reason', observation = 1)"
   ]
  },
  {
   "cell_type": "code",
   "execution_count": 19,
   "metadata": {},
   "outputs": [],
   "source": [
    "# exp_class.evaluate_model(best_model)"
   ]
  },
  {
   "cell_type": "code",
   "execution_count": 22,
   "metadata": {},
   "outputs": [],
   "source": [
    "# tune hyperparameters of dt\n",
    "tunned_model = best_model  # exp_class.tune_model(best_model)"
   ]
  },
  {
   "cell_type": "code",
   "execution_count": 23,
   "metadata": {},
   "outputs": [],
   "source": [
    "# finalize model\n",
    "final_model = exp_class.finalize_model(tunned_model)"
   ]
  },
  {
   "cell_type": "code",
   "execution_count": 24,
   "metadata": {},
   "outputs": [],
   "source": [
    "# copy data and drop Class variable\n",
    "\n",
    "new_data = validation_data.copy()\n",
    "new_data.drop(\"status\", axis=1, inplace=True)\n",
    "# new_data.head()"
   ]
  },
  {
   "cell_type": "code",
   "execution_count": 25,
   "metadata": {},
   "outputs": [
    {
     "data": {
      "text/html": [],
      "text/plain": [
       "<IPython.core.display.HTML object>"
      ]
     },
     "metadata": {},
     "output_type": "display_data"
    }
   ],
   "source": [
    "# predict model on new_data\n",
    "predictions = exp_class.predict_model(final_model, data=new_data)\n",
    "# predictions.head()"
   ]
  },
  {
   "cell_type": "code",
   "execution_count": 26,
   "metadata": {},
   "outputs": [
    {
     "name": "stdout",
     "output_type": "stream",
     "text": [
      "Status: ESTAVEL: 0.9148833854291897 - SOBE: 0.9405048076923077 - GERAL: 0.9222050489438434\n"
     ]
    }
   ],
   "source": [
    "predictions[\"status\"] = validation_data[\"status\"]\n",
    "predictions[\"score\"] = predictions[\"prediction_label\"] == predictions[\"status\"]\n",
    "\n",
    "score_estavel = predictions[predictions[\"status\"] == \"ESTAVEL\"][\"score\"].value_counts()\n",
    "score_sobe = predictions[predictions[\"status\"] == \"SOBE\"][\"score\"].value_counts()\n",
    "score = predictions[\"score\"].value_counts()\n",
    "\n",
    "se = score_estavel[0] / (score_estavel[0] + score_estavel[1])\n",
    "ss = score_sobe[0] / (score_sobe[0] + score_sobe[1])\n",
    "s = score[0] / (score[0] + score[1])\n",
    "\n",
    "print(f\"Status: ESTAVEL: {se} - SOBE: {ss} - GERAL: {s}\")"
   ]
  }
 ],
 "metadata": {
  "kernelspec": {
   "display_name": "rapids-24.04",
   "language": "python",
   "name": "python3"
  },
  "language_info": {
   "codemirror_mode": {
    "name": "ipython",
    "version": 3
   },
   "file_extension": ".py",
   "mimetype": "text/x-python",
   "name": "python",
   "nbconvert_exporter": "python",
   "pygments_lexer": "ipython3",
   "version": "3.11.9"
  }
 },
 "nbformat": 4,
 "nbformat_minor": 2
}
