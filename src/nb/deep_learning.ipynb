{
 "cells": [
  {
   "cell_type": "code",
   "execution_count": null,
   "metadata": {},
   "outputs": [],
   "source": [
    "import sys\n",
    "sys.path.insert(0, sys.path[0].removesuffix(\"/src/nb\"))\n",
    "print(sys.path)\n",
    "\n",
    "from ta.trend import *\n",
    "from ta.momentum import *\n",
    "from sklearn.preprocessing import MinMaxScaler\n",
    "from sklearn.metrics import confusion_matrix, ConfusionMatrixDisplay\n",
    "from sklearn.model_selection import train_test_split\n",
    "from imblearn.under_sampling import InstanceHardnessThreshold, RepeatedEditedNearestNeighbours, AllKNN\n",
    "from keras.models import Sequential\n",
    "from keras.layers import Dense\n",
    "\n",
    "import src.utils as utils\n",
    "import src.myenv as myenv\n",
    "import src.calc_utils as calc_utils\n",
    "\n",
    "import pandas as pd\n",
    "import numpy as np\n",
    "import matplotlib.pyplot as plt\n",
    "import tensorflow as tf\n",
    "import warnings\n",
    "\n",
    "clustering = False\n",
    "shuffle = True\n",
    "categorical_features = None\n",
    "train_size = 0.9\n",
    "imbalance = True\n",
    "scaled = True\n",
    "\n",
    "warnings.simplefilter(\"ignore\")"
   ]
  },
  {
   "cell_type": "code",
   "execution_count": null,
   "metadata": {},
   "outputs": [],
   "source": [
    "df = utils.get_database(\n",
    "    symbol=\"BTCUSDT\", interval=\"1h\", columns=myenv.all_klines_cols, parse_dates=False\n",
    ")\n",
    "df.drop(\n",
    "    columns=[\n",
    "        \"open_time\",\n",
    "        \"close_time\",\n",
    "        \"volume\",\n",
    "        \"quote_asset_volume\",\n",
    "        \"number_of_trades\",\n",
    "        \"taker_buy_base_asset_volume\",\n",
    "        \"taker_buy_quote_asset_volume\",\n",
    "        \"ignore\",\n",
    "    ],\n",
    "    inplace=True,\n",
    ")\n",
    "df.info()"
   ]
  },
  {
   "cell_type": "code",
   "execution_count": null,
   "metadata": {},
   "outputs": [],
   "source": [
    "df = calc_utils.calc_ema_periods(\n",
    "    df, [150, 200, 250, 300], close_price=\"close\", diff_price=True\n",
    ")\n",
    "df = calc_utils.calc_RSI(\n",
    "    df, close_price=\"close\", window=14, fillna=False, last_one=False\n",
    ")\n",
    "df = calc_utils.calc_amplitude(df, column=\"close\")\n",
    "\n",
    "macd = MACD(df[\"close\"], 12, 26, 9)\n",
    "df[\"macd\"] = macd.macd()\n",
    "df[\"macd_diff\"] = macd.macd_diff()\n",
    "df[\"macd_signal\"] = macd.macd_signal()\n",
    "\n",
    "aoi = AwesomeOscillatorIndicator(df[\"high\"], df[\"low\"])\n",
    "df[\"aoi\"] = aoi.awesome_oscillator()\n",
    "\n",
    "df[\"tsi\"] = TSIIndicator(df[\"close\"]).tsi()\n",
    "\n",
    "df.dropna(inplace=True)\n",
    "\n",
    "df.info()"
   ]
  },
  {
   "cell_type": "code",
   "execution_count": null,
   "metadata": {},
   "outputs": [],
   "source": [
    "df[\"variation\"] = (\n",
    "    df[\"close\"] - df[\"close\"].shift(24)\n",
    ") / df[\"close\"]\n",
    "df[\"status\"] = np.where(\n",
    "    df[\"variation\"] > 0.015, 1, 0\n",
    ")  # 1 == SOBE, 0 == ESTAVEL\n",
    "df.dropna(inplace=True)\n",
    "df.info()"
   ]
  },
  {
   "cell_type": "code",
   "execution_count": null,
   "metadata": {},
   "outputs": [],
   "source": [
    "df.drop(columns=[\"variation\"], inplace=True)\n",
    "df[\"status\"].value_counts()"
   ]
  },
  {
   "cell_type": "code",
   "execution_count": null,
   "metadata": {},
   "outputs": [],
   "source": [
    "if scaled:\n",
    "\tcols = df.columns.drop('status')\n",
    "\tdf_scaled = calc_utils.standard_scaler(df, columns=cols)\n",
    "else:\n",
    "\tdf_scaled = df"
   ]
  },
  {
   "cell_type": "code",
   "execution_count": null,
   "metadata": {},
   "outputs": [],
   "source": [
    "from sklearn.cluster import KMeans\n",
    "\n",
    "if clustering:\n",
    "\tkmeans = KMeans(n_clusters = 4, random_state = 0).fit(df_scaled.drop(columns=[\"status\"]))\n",
    "\tdf_scaled[\"cluster\"] = kmeans.labels_\n",
    "\t#df_scaled[\"cluster\"] = np.where(df_scaled[\"kmeans\"] == 0, 0, 1)\n",
    "\t#df_scaled.drop(columns=[\"kmeans\"], inplace=True)\n",
    "\tdf_scaled[\"cluster\"] = df_scaled[\"cluster\"].astype('category')\n",
    "\tdf_scaled = pd.get_dummies(df_scaled, columns=[\"cluster\"])\n",
    "\tdf_scaled[\"cluster_0\"] = df_scaled[\"cluster_0\"].astype('float32')\n",
    "\tdf_scaled[\"cluster_1\"] = df_scaled[\"cluster_1\"].astype('float32')\n",
    "\tdf_scaled[\"cluster_2\"] = df_scaled[\"cluster_2\"].astype('float32')\n",
    "\tdf_scaled[\"cluster_3\"] = df_scaled[\"cluster_3\"].astype('float32')\n",
    "\n",
    "df_scaled.head()"
   ]
  },
  {
   "cell_type": "code",
   "execution_count": null,
   "metadata": {},
   "outputs": [],
   "source": [
    "train_data, validation_data = train_test_split(\n",
    "    df_scaled, train_size=train_size, random_state=123, shuffle=shuffle\n",
    ")\n",
    "\n",
    "X_train = train_data.drop(columns=[\"status\"])\n",
    "y_train = train_data[\"status\"]\n",
    "\n",
    "X_validation = validation_data.drop(columns=[\"status\"])\n",
    "y_validation = validation_data[\"status\"]"
   ]
  },
  {
   "cell_type": "code",
   "execution_count": null,
   "metadata": {},
   "outputs": [],
   "source": [
    "if imbalance:\n",
    "\timb = AllKNN(allow_minority=False, kind_sel='all', n_jobs=-1, n_neighbors=3, sampling_strategy='auto')\n",
    "\tX_res, y_res = imb.fit_resample(X_train, y_train)\n",
    "\tprint(X_res.shape, y_res.shape)\n",
    "else:\n",
    "\tX_res, y_res = X_train, y_train"
   ]
  },
  {
   "cell_type": "code",
   "execution_count": null,
   "metadata": {},
   "outputs": [],
   "source": [
    "tf.random.set_seed(123)\n",
    "basic_model = tf.keras.Sequential(\n",
    "    [\n",
    "        tf.keras.Input(shape=(X_res.shape[1],)),\n",
    "        tf.keras.layers.Flatten(),\n",
    "        tf.keras.layers.Dense(256, activation='relu'),\n",
    "        tf.keras.layers.Dense(128, activation='relu'),\n",
    "        tf.keras.layers.Dense(1, activation='sigmoid'),\n",
    "    ]\n",
    ")"
   ]
  },
  {
   "cell_type": "code",
   "execution_count": null,
   "metadata": {},
   "outputs": [],
   "source": [
    "basic_model.summary()"
   ]
  },
  {
   "cell_type": "code",
   "execution_count": null,
   "metadata": {},
   "outputs": [],
   "source": [
    "# basic_model.compile(loss='binary_crossentropy', optimizer=tf.keras.optimizers.Adam(learning_rate=0.001), metrics=[\"accuracy\"])\n",
    "basic_model.compile(loss='binary_crossentropy', optimizer='rmsprop', metrics=[\"accuracy\"])"
   ]
  },
  {
   "cell_type": "code",
   "execution_count": null,
   "metadata": {},
   "outputs": [],
   "source": [
    "basic_model.fit(X_res, y_res, epochs=50, validation_data=(X_validation, y_validation), verbose=1)"
   ]
  },
  {
   "cell_type": "code",
   "execution_count": null,
   "metadata": {},
   "outputs": [],
   "source": [
    "loss_and_metrics = basic_model.evaluate(X_res, y_res)\n",
    "print(loss_and_metrics)\n",
    "print('Loss = ',loss_and_metrics[0])\n",
    "print('Accuracy = ',loss_and_metrics[1])"
   ]
  },
  {
   "cell_type": "code",
   "execution_count": null,
   "metadata": {},
   "outputs": [],
   "source": [
    "predicted = basic_model.predict(X_validation)"
   ]
  },
  {
   "cell_type": "code",
   "execution_count": null,
   "metadata": {},
   "outputs": [],
   "source": [
    "predicted = predicted >= 0.5 # True if >= 0.5 else False (in python True = 1, False = 0)\n",
    "actual = np.array(y_validation)\n",
    "conf_mat = confusion_matrix(actual, predicted)\n",
    "displ = ConfusionMatrixDisplay(confusion_matrix = conf_mat)\n",
    "displ.plot()"
   ]
  },
  {
   "cell_type": "code",
   "execution_count": null,
   "metadata": {},
   "outputs": [],
   "source": [
    "predictions = pd.DataFrame({\"prediction_label\": predicted[:, 0]}, index=X_validation.index)\n",
    "predictions[\"status\"] = y_validation\n",
    "predictions[\"score\"] = predictions[\"prediction_label\"] == predictions[\"status\"]\n",
    "\n",
    "score_estavel = predictions[predictions[\"status\"] == 0][\"score\"].value_counts()\n",
    "score_sobe = predictions[predictions[\"status\"] == 1][\"score\"].value_counts()\n",
    "score = predictions[\"score\"].value_counts()\n",
    "\n",
    "se = score_estavel[0] / (score_estavel[0] + score_estavel[1])\n",
    "ss = score_sobe[0] / (score_sobe[0] + score_sobe[1])\n",
    "s = score[0] / (score[0] + score[1])\n",
    "\n",
    "print(f\"Status: ESTAVEL: {se} - SOBE: {ss} - GERAL: {s}\")"
   ]
  }
 ],
 "metadata": {
  "kernelspec": {
   "display_name": ".env",
   "language": "python",
   "name": "python3"
  },
  "language_info": {
   "codemirror_mode": {
    "name": "ipython",
    "version": 3
   },
   "file_extension": ".py",
   "mimetype": "text/x-python",
   "name": "python",
   "nbconvert_exporter": "python",
   "pygments_lexer": "ipython3",
   "version": "3.11.9"
  }
 },
 "nbformat": 4,
 "nbformat_minor": 2
}
